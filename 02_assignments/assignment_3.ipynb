{
 "cells": [
  {
   "cell_type": "markdown",
   "id": "7b0bcac6-5086-4f4e-928a-570a9ff7ae58",
   "metadata": {},
   "source": [
    "# Assignment 3"
   ]
  },
  {
   "cell_type": "markdown",
   "id": "5fce0350-2a17-4e93-8d4c-0b8748fdfc32",
   "metadata": {},
   "source": [
    "As before, if a question can be answered with 'yes/no', or a numeric value, you may simply state as much. If you incorporate code from the internet (which is not required and generally not advisable), please cite the source within your code (providing a URL is sufficient).\n",
    "\n",
    "We will go through comparable code and concepts in the live learning session. If you run into trouble, start by using the help `help()` function in Python, to get information about the datasets and function in question. The internet is also a great resource when coding (though note that no outside searches are required by the assignment!). If you do incorporate code from the internet, please cite the source within your code (providing a URL is sufficient).\n",
    "\n",
    "Please bring questions that you cannot work out on your own to office hours, work periods or share with your peers on Slack. We will work with you through the issue."
   ]
  },
  {
   "cell_type": "code",
   "execution_count": 166,
   "id": "b92f7c91",
   "metadata": {},
   "outputs": [],
   "source": [
    "import numpy as np\n",
    "import pandas as pd\n",
    "import matplotlib.pyplot as plt\n",
    "import statsmodels.api as sm\n",
    "import warnings # for muting warning messages\n",
    "# mute warning messages\n",
    "warnings.filterwarnings('ignore')"
   ]
  },
  {
   "cell_type": "markdown",
   "id": "d7fff1dd-e4ce-4a60-96a0-d08136e9bf5e",
   "metadata": {},
   "source": [
    "### Question 1: Resampling via Bootstrapping\n",
    "\n",
    "Now, we'll use the `iris` dataset, which we will add to Python using the `statsmodels` library. As always, start by reviewing a description of the dataset, by printing the dataset."
   ]
  },
  {
   "cell_type": "code",
   "execution_count": 167,
   "id": "47f4dcf5-0d4c-41ea-892d-d9f2c1aa1859",
   "metadata": {},
   "outputs": [
    {
     "name": "stdout",
     "output_type": "stream",
     "text": [
      "Shape of the Dataset\n",
      "(150, 5)\n",
      "Information about the Dataset\n",
      "<class 'pandas.core.frame.DataFrame'>\n",
      "RangeIndex: 150 entries, 0 to 149\n",
      "Data columns (total 5 columns):\n",
      " #   Column        Non-Null Count  Dtype  \n",
      "---  ------        --------------  -----  \n",
      " 0   Sepal.Length  150 non-null    float64\n",
      " 1   Sepal.Width   150 non-null    float64\n",
      " 2   Petal.Length  150 non-null    float64\n",
      " 3   Petal.Width   150 non-null    float64\n",
      " 4   Species       150 non-null    object \n",
      "dtypes: float64(4), object(1)\n",
      "memory usage: 6.0+ KB\n",
      "None\n",
      "First Few Rows of the Dataset\n",
      "   Sepal.Length  Sepal.Width  Petal.Length  Petal.Width Species\n",
      "0           5.1          3.5           1.4          0.2  setosa\n",
      "1           4.9          3.0           1.4          0.2  setosa\n",
      "2           4.7          3.2           1.3          0.2  setosa\n",
      "3           4.6          3.1           1.5          0.2  setosa\n",
      "4           5.0          3.6           1.4          0.2  setosa\n",
      "Descriptive Statistics of the Dataset\n",
      "       Sepal.Length  Sepal.Width  Petal.Length  Petal.Width\n",
      "count    150.000000   150.000000    150.000000   150.000000\n",
      "mean       5.843333     3.057333      3.758000     1.199333\n",
      "std        0.828066     0.435866      1.765298     0.762238\n",
      "min        4.300000     2.000000      1.000000     0.100000\n",
      "25%        5.100000     2.800000      1.600000     0.300000\n",
      "50%        5.800000     3.000000      4.350000     1.300000\n",
      "75%        6.400000     3.300000      5.100000     1.800000\n",
      "max        7.900000     4.400000      6.900000     2.500000\n"
     ]
    }
   ],
   "source": [
    "# Import\n",
    "iris = sm.datasets.get_rdataset('iris', 'datasets')\n",
    "df = pd.DataFrame(iris.data)\n",
    "print(\"Shape of the Dataset\")\n",
    "print(df.shape)\n",
    "print(\"Information about the Dataset\")\n",
    "print(df.info())\n",
    "print(\"First Few Rows of the Dataset\")\n",
    "print(df.head())\n",
    "print(\"Descriptive Statistics of the Dataset\")\n",
    "print(df.describe())"
   ]
  },
  {
   "cell_type": "markdown",
   "id": "7717a32c",
   "metadata": {},
   "source": [
    "#### _(i)_ Create an `alpha_func(D, idx)` function which takes the `Sepal`'s `width` and `length` to calculate for alpha"
   ]
  },
  {
   "cell_type": "code",
   "execution_count": 168,
   "id": "8a9f51e8",
   "metadata": {},
   "outputs": [
    {
     "name": "stdout",
     "output_type": "stream",
     "text": [
      "Index(['Sepal.Length', 'Sepal.Width', 'Petal.Length', 'Petal.Width',\n",
      "       'Species'],\n",
      "      dtype='object')\n"
     ]
    }
   ],
   "source": [
    "print(df.keys())"
   ]
  },
  {
   "cell_type": "code",
   "execution_count": 169,
   "id": "f3da5483",
   "metadata": {},
   "outputs": [],
   "source": [
    "# Your code here\n",
    "def alpha_func(D, idx):\n",
    "    \"\"\"\n",
    "    This function calculates an alpha value based on the covariance matrix of Sepal Width and Sepal Length.\n",
    "\n",
    "    Args:\n",
    "        D: A pandas DataFrame containing the dataset.\n",
    "        idx: The index or a list/range of indices of the data point(s) in the DataFrame.\n",
    "\n",
    "    Returns:\n",
    "        The calculated alpha value.\n",
    "    \"\"\"\n",
    "    cov_ = np.cov(D[['Sepal.Width', 'Sepal.Length']].loc[idx], rowvar=False)\n",
    "    return ((cov_[1,1] - cov_[0,1]) /\n",
    "            (cov_[0,0] + cov_[1,1] - 2*cov_[0,1]))"
   ]
  },
  {
   "cell_type": "markdown",
   "id": "ff94d66b",
   "metadata": {},
   "source": [
    "Test the code below"
   ]
  },
  {
   "cell_type": "code",
   "execution_count": 170,
   "id": "eda715cd",
   "metadata": {},
   "outputs": [
    {
     "data": {
      "text/plain": [
       "0.6189498510165619"
      ]
     },
     "execution_count": 170,
     "metadata": {},
     "output_type": "execute_result"
    }
   ],
   "source": [
    "alpha_func(df, range(100))"
   ]
  },
  {
   "cell_type": "markdown",
   "id": "f338b14e",
   "metadata": {},
   "source": [
    "#### _(ii)_ Construct a new bootstrap data set and recompute alpha"
   ]
  },
  {
   "cell_type": "code",
   "execution_count": 171,
   "id": "34ee835f",
   "metadata": {},
   "outputs": [
    {
     "data": {
      "text/plain": [
       "0.6675354865158225"
      ]
     },
     "execution_count": 171,
     "metadata": {},
     "output_type": "execute_result"
    }
   ],
   "source": [
    "rng = np.random.default_rng(0)\n",
    "alpha_func(df,\n",
    "           rng.choice(100,\n",
    "                      100,\n",
    "                      replace=True))"
   ]
  },
  {
   "cell_type": "markdown",
   "id": "8c88e3ee",
   "metadata": {},
   "source": [
    "* Initial alpha value: 0.6189498510165619\n",
    "* Bootstrap alpha value: 0.6675354865158225"
   ]
  },
  {
   "cell_type": "markdown",
   "id": "056080ff-7aec-41aa-bb61-763b390e4cf2",
   "metadata": {},
   "source": [
    "#### Imagine we are analysts working for a shipping company. The company wants to know the average length of iris' petals, to inform space allotment on an upcoming shipment. The relevant variable in the dataset is `Sepal.Length`. \n",
    "\n",
    "#### _(iii)_ Why is it (perhaps) not sufficient to simply calculate the mean of `Sepal.Length`? What more information will preforming a bootstrap provide to us?\n",
    "1. Limitations:\n",
    "````\n",
    "The mean only tells us the average Sepal Length. It doesn't capture the distribution of Sepal Lengths in the dataset nor does it provide any insight into this variation.\n",
    "For example, in a shipping context, knowing the average Sepal Length might not be very helpful. We need to consider the range of Sepal Lengths to ensure enough space for all flower sizes.\n",
    "````\n",
    "2. Benefits of Bootstrapping:\n",
    "````\n",
    "Bootstrapping allows us to see the variability of the mean Sepal Length across different possible samples.\n",
    "Calculate confidence intervals to show the range within which the true population mean likely falls with a certain level of confidence.\n",
    "Assess the skewness of the Sepal Length distribution. If the distribution is skewed, the mean might not be the most representative measure of central tendency.\n",
    "````\n",
    "#### _(iv)_ We can perform bootstrapping in Python by defining a simple function using `boot_SE()` for computing the bootstrap standard error. Remember, because bootstrapping involves randomness, we must first set a seed for reproducibility!"
   ]
  },
  {
   "cell_type": "code",
   "execution_count": 172,
   "id": "77540f76-7747-4dba-8e77-e1ded54af536",
   "metadata": {},
   "outputs": [],
   "source": [
    "# Add your code here to set the seed\n",
    "bootstrap_values = []\n",
    "\n",
    "def boot_SE(D, B=1000, seed=10):\n",
    "    rng = np.random.default_rng(seed)\n",
    "    bootstrap_values = []\n",
    "    n = D.shape[0]\n",
    "    for i in range(B):\n",
    "        idx = rng.choice(D.index, n, replace=True)\n",
    "        value = alpha_func(D, idx)\n",
    "        bootstrap_values.append(value)\n",
    "    # Extend return value to capture mean and SD\n",
    "    mean_alpha = np.mean(bootstrap_values)\n",
    "    std_alpha = np.std(bootstrap_values, ddof=1)  # ddof=1 for sample standard deviation\n",
    "    \n",
    "    return mean_alpha, std_alpha, bootstrap_values"
   ]
  },
  {
   "cell_type": "markdown",
   "id": "8a543472",
   "metadata": {},
   "source": [
    "#### _(v)_ Evaluate the accuracy of our alpha estimate with B = 1000"
   ]
  },
  {
   "cell_type": "code",
   "execution_count": 173,
   "id": "9ed41c4e",
   "metadata": {},
   "outputs": [
    {
     "name": "stdout",
     "output_type": "stream",
     "text": [
      "Mean Alpha: 0.7578\n",
      "Standard Deviation of Alpha: 0.0299\n"
     ]
    }
   ],
   "source": [
    "# Your code here\n",
    "mean_alpha, std_alpha, boot_se_samples = boot_SE(df, B=1000, seed=10)\n",
    "print(f\"Mean Alpha: {mean_alpha:.4f}\")\n",
    "print(f\"Standard Deviation of Alpha: {std_alpha:.4f}\")"
   ]
  },
  {
   "cell_type": "code",
   "execution_count": 174,
   "id": "1f4853a7",
   "metadata": {},
   "outputs": [
    {
     "name": "stdout",
     "output_type": "stream",
     "text": [
      "Original Mean Value of Sepal.Length: 5.8433\n"
     ]
    }
   ],
   "source": [
    "original_mean_sepal_length = df['Sepal.Length'].mean()\n",
    "print(f\"Original Mean Value of Sepal.Length: {original_mean_sepal_length:.4f}\")"
   ]
  },
  {
   "cell_type": "markdown",
   "id": "785fe758-f395-40b6-a9a3-28ec2efeba29",
   "metadata": {},
   "source": [
    "#### _(vi)_ What is the original mean value of `Sepal.Length`?\n",
    "````\n",
    "* Original Mean Value of Sepal.Length: 5.8433\n",
    "````\n",
    "#### Next, let's look _inside_ our bootstrapping to understand the new, bootstrapped sample we have created. Let's review the bootstrapped range, by using `t_range = np.ptp(boot_se_samples)`.\n",
    "\n",
    "#### _(vii)_. Write code to review the bootstrapped mean value, and the standard deviation of the bootstrapped samples. Compare the mean against its original value."
   ]
  },
  {
   "cell_type": "code",
   "execution_count": 175,
   "id": "7686243c",
   "metadata": {},
   "outputs": [
    {
     "name": "stdout",
     "output_type": "stream",
     "text": [
      "Mean Alpha: 0.7578 - Original Mean: 5.8433\n",
      "Standard Deviation of Alpha: 0.0299\n",
      "Range (Peak-to-Peak) of Bootstrap Alpha Values: 0.1900\n"
     ]
    }
   ],
   "source": [
    "# Add your code here\n",
    "t_range = np.ptp(boot_se_samples)\n",
    "\n",
    "# Print results\n",
    "print(f\"Mean Alpha: {mean_alpha:.4f} - Original Mean: {original_mean_sepal_length:.4f}\")\n",
    "print(f\"Standard Deviation of Alpha: {std_alpha:.4f}\")\n",
    "print(f\"Range (Peak-to-Peak) of Bootstrap Alpha Values: {t_range:.4f}\")"
   ]
  },
  {
   "cell_type": "markdown",
   "id": "66c6c663-f3bb-4a15-8896-6dccfb7259fd",
   "metadata": {},
   "source": [
    "#### _(viii)_ Next, let's compute 95% confidence intervals, for the mean value of iris petal length. (Hint: use the `np.percentile` function)"
   ]
  },
  {
   "cell_type": "code",
   "execution_count": 176,
   "id": "74de4a76-e500-4c93-82a9-e7365cc86c91",
   "metadata": {},
   "outputs": [
    {
     "name": "stdout",
     "output_type": "stream",
     "text": [
      "95% Confidence Interval for Alpha: [0.6975, 0.8168]\n"
     ]
    }
   ],
   "source": [
    "# Add your code here\n",
    "alpha_conf_interval = np.percentile(boot_se_samples, [2.5, 97.5])\n",
    "print(f\"95% Confidence Interval for Alpha: [{alpha_conf_interval[0]:.4f}, {alpha_conf_interval[1]:.4f}]\")"
   ]
  },
  {
   "cell_type": "markdown",
   "id": "488e54f7-ebe4-4740-835c-9832320005d0",
   "metadata": {},
   "source": [
    "#### _(ix)_. Use the plot function to create an histogram of the bootstrapped samples. What does this histogram show ?\n",
    "1. Shape:\n",
    "````\n",
    "The histogram have a roughly symmetric, bell-shaped distribution, indicating that the bootstrap alpha values are approximately normally distributed.\n",
    "````\n",
    "2. Spread:\n",
    "````\n",
    "The alpha values range from about 0.675 to 0.850.\n",
    "The distribution is centered around the mean alpha value (0.7578), with most values falling between 0.700 and 0.800.\n",
    "````\n",
    "3. Mean Line:\n",
    "````\n",
    "The red dashed line at the mean alpha value (0.7578) confirms that the distribution is centered around this value.\n",
    "````\n",
    "4. Frequency:\n",
    "````\n",
    "The highest frequency of alpha values is around 0.750, which matches the mean alpha value.\n",
    "The distribution has a moderate spread, indicating some variability in the bootstrap alpha values.\n",
    "\n",
    "The histogram shows that the alpha values derived from the bootstrap samples are reasonably consistent and normally distributed around the mean value of 0.7578. This suggests that the alpha estimate is stable and reliable, with the standard deviation (0.0299) providing a measure of the estimate's precision.````"
   ]
  },
  {
   "cell_type": "code",
   "execution_count": 177,
   "id": "4fca4e3f",
   "metadata": {},
   "outputs": [
    {
     "data": {
      "image/png": "[encoded data removed]",
      "text/plain": [
       "<Figure size 800x600 with 1 Axes>"
      ]
     },
     "metadata": {},
     "output_type": "display_data"
    }
   ],
   "source": [
    "#Complete this\n",
    "\n",
    "# Create a figure and axis\n",
    "fig, ax = plt.subplots(figsize=(8, 6))\n",
    "\n",
    "# Create the histogram\n",
    "ax.hist(boot_se_samples, bins=30, edgecolor='black', alpha=0.7)\n",
    "plt.axvline(x=mean_alpha, color='red', linestyle='--', linewidth=2, label=f'Mean Alpha: {mean_alpha:.4f}')\n",
    "\n",
    "# Add a title\n",
    "ax.set_title('Distribution of Bootstrapped Samples')\n",
    "\n",
    "# Add a label to the x-axis\n",
    "ax.set_xlabel('Bootstrap Alpha Values')\n",
    "\n",
    "# Add a label to the y-axis\n",
    "ax.set_ylabel('Frequency')\n",
    "\n",
    "# Show the plot\n",
    "plt.legend()\n",
    "plt.tight_layout()\n",
    "plt.show()"
   ]
  },
  {
   "cell_type": "markdown",
   "id": "bfa9a095-9c7a-4ab5-aa99-b11bf419fae0",
   "metadata": {},
   "source": [
    "#### _(x)_ Given your bootstrapped analysis, what do you recommend to shipping company? "
   ]
  },
  {
   "cell_type": "markdown",
   "id": "5e83202e-4aab-44bb-8586-5d0e82e9e201",
   "metadata": {},
   "source": [
    "# Write your answer here\n",
    "1. Average Sepal Length Estimate:\n",
    "````\n",
    "* The bootstrapped analysis confirms that the mean sepal length is approximately 5.8433, with a relatively low standard deviation of 0.0299 from the bootstrap samples. This close match between the bootstrap and descriptive statistics indicates a robust and reliable estimate.\n",
    "* Recommendation: Use the mean sepal length of 5.8433 as the central value for planning space allotment. This estimate is stable and reflects the central tendency of the data accurately.\n",
    "````\n",
    "2. Understanding Variability:\n",
    "````\n",
    "* The standard deviation of the sepal length is 0.8281, indicating the spread of the data around the mean. The bootstrap analysis further supports this with a standard deviation of 0.0299 for the alpha values.\n",
    "* Recommendation: Account for the variability by considering the range within one standard deviation of the mean (i.e., 5.8433 ± 0.8281). This range (5.0152 to 6.6714) covers the majority of the sepal lengths and ensures that space allocation accommodates most items.````"
   ]
  },
  {
   "cell_type": "markdown",
   "id": "466943e8",
   "metadata": {},
   "source": [
    "# Criteria\n",
    "\n",
    "|Criteria            |Complete           |Incomplete          |\n",
    "|--------------------|---------------|--------------|\n",
    "|Bootstrapping|All steps are done correctly and the answers are correct.|At least one step is done incorrectly leading to a wrong answer.|"
   ]
  },
  {
   "cell_type": "markdown",
   "id": "68b8a226",
   "metadata": {},
   "source": [
    "## Submission Information\n",
    "\n",
    "🚨 **Please review our [Assignment Submission Guide](https://github.com/UofT-DSI/onboarding/blob/main/onboarding_documents/submissions.md)** 🚨 for detailed instructions on how to format, branch, and submit your work. Following these guidelines is crucial for your submissions to be evaluated correctly.\n",
    "\n",
    "### Note:\n",
    "\n",
    "If you like, you may collaborate with others in the cohort. If you choose to do so, please indicate with whom you have worked with in your pull request by tagging their GitHub username. Separate submissions are required.\n",
    "\n",
    "\n",
    "### Submission Parameters:\n",
    "* Submission Due Date: `HH:MM AM/PM - DD/MM/YYYY`\n",
    "* The branch name for your repo should be: `assignment-3`\n",
    "* What to submit for this assignment:\n",
    "    * This Jupyter Notebook (assignment_3.ipynb) should be populated and should be the only change in your pull request.\n",
    "* What the pull request link should look like for this assignment: `https://github.com/<your_github_username>/applying_statistical_concepts/pull/<pr_id>`\n",
    "    * Open a private window in your browser. Copy and paste the link to your pull request into the address bar. Make sure you can see your pull request properly. This helps the technical facilitator and learning support staff review your submission easily.\n",
    "\n",
    "Checklist:\n",
    "- [ ] Created a branch with the correct naming convention.\n",
    "- [ ] Ensured that the repository is public.\n",
    "- [ ] Reviewed the PR description guidelines and adhered to them.\n",
    "- [ ] Verify that the link is accessible in a private browser window.\n",
    "\n",
    "If you encounter any difficulties or have questions, please don't hesitate to reach out to our team via our Slack at `#cohort-3-help`. Our Technical Facilitators and Learning Support staff are here to help you navigate any challenges.\n"
   ]
  }
 ],
 "metadata": {
  "kernelspec": {
   "display_name": "Python 3.10.4",
   "language": "python",
   "name": "python3"
  },
  "language_info": {
   "codemirror_mode": {
    "name": "ipython",
    "version": 3
   },
   "file_extension": ".py",
   "mimetype": "text/x-python",
   "name": "python",
   "nbconvert_exporter": "python",
   "pygments_lexer": "ipython3",
   "version": "3.9.19"
  },
  "vscode": {
   "interpreter": {
    "hash": "497a84dc8fec8cf8d24e7e87b6d954c9a18a327edc66feb9b9ea7e9e72cc5c7e"
   }
  }
 },
 "nbformat": 4,
 "nbformat_minor": 5
}
